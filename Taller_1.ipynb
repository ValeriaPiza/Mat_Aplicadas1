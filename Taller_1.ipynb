{
  "nbformat": 4,
  "nbformat_minor": 0,
  "metadata": {
    "colab": {
      "provenance": [],
      "include_colab_link": true
    },
    "kernelspec": {
      "name": "python3",
      "display_name": "Python 3"
    },
    "language_info": {
      "name": "python"
    }
  },
  "cells": [
    {
      "cell_type": "markdown",
      "metadata": {
        "id": "view-in-github",
        "colab_type": "text"
      },
      "source": [
        "<a href=\"https://colab.research.google.com/github/ValeriaPiza/Mat_Aplicadas1/blob/main/Taller_1.ipynb\" target=\"_parent\"><img src=\"https://colab.research.google.com/assets/colab-badge.svg\" alt=\"Open In Colab\"/></a>"
      ]
    },
    {
      "cell_type": "markdown",
      "source": [
        "## **Taller 1: LaTeX**\n",
        "\n",
        "Integrantes:\n",
        "\n",
        "* Valeria Saavedra\n",
        "* Samuel Mejía\n",
        "* Santiago Gomez\n",
        "* Nicolas Buelvas"
      ],
      "metadata": {
        "id": "HBtDVnPSs4gS"
      }
    },
    {
      "cell_type": "markdown",
      "source": [
        "**Punto 1:** Resolución de serie de operaciones aritmeticas que deben\n",
        "ser resueltas y comprobadas con Python."
      ],
      "metadata": {
        "id": "al2AyD76GyCb"
      }
    },
    {
      "cell_type": "markdown",
      "source": [],
      "metadata": {
        "id": "bIMAinXVG75o"
      }
    },
    {
      "cell_type": "markdown",
      "source": [
        "**<font>Punto 2. Despejar variables en LaTeX**: A continuación, realize la formula correspondiente transcribida en LaTeX y luego resuelva para una incógnita dentro de la misma fórmula."
      ],
      "metadata": {
        "id": "jHanZJEXt6zv"
      }
    },
    {
      "cell_type": "markdown",
      "source": [
        "1. Área lateral de un cilindro\n",
        " >$A=2\\pi rg$\n",
        "\n",
        " >$r=\\frac{A}{g\\pi 2}$\n",
        "\n",
        "2. Volumen de un cono.\n",
        "\n",
        "$ V = \\frac{A_{b}*h}{3}$\n",
        ">> $ h = \\frac{3V}{A_{b}}$\n",
        "\n",
        "3. Volumen de una esfera.\n",
        "\n",
        "$ V = \\frac{4}{3}*\\pi*r^3$\n",
        "\n",
        "4. Área del trapecio\n",
        " >$A=\\frac{B+b}{2} \\cdot h$\n",
        "\n",
        " >$h=\\frac{2A}{B+b}$\n",
        "\n",
        "\n",
        "5. Intensidad Eléctrica.\n",
        "\n",
        "> $I = \\frac{q}{t}$\n",
        ">> $t = \\frac{q}{I}$\n",
        "\n",
        "6. Ley de Ohm.\n",
        "\n",
        ">$I = \\frac{V}{R}$\n",
        ">> $R = \\frac{V}{I}$\n",
        "\n",
        "7.  Energia eléctrica\n",
        " >$E=\\frac{V^2}{R} \\cdot t$\n",
        "\n",
        " >$t=\\frac{ER}{V^2}$\n",
        "\n",
        "8. Resistencias en Paralelo.\n",
        "\n",
        ">$\\frac{1}{R} = \\frac{1}{R_{1}} + \\frac{1}{R_{2}}$\n",
        ">> $R = \\frac{R_{1}*R_{2}}{2}$\n",
        "\n",
        "9. Ecuación gases perfectos\n",
        " >$\\frac{P_{0}V_{0}}{T_{0}}=\\frac{P_{f}V_{f}}{T_{f}}$\n",
        "\n",
        " >$P_{f}= \\frac{T_{f}P_{0}V_{0}}{V_{f}T_{0}}$\n",
        "\n",
        "10. Intensidad eléctrica.\n",
        "\n",
        ">$ I = \\frac{V_{A}-V_{B}}{R}$\n",
        ">> $V_{B}= V_{A}-IR $"
      ],
      "metadata": {
        "id": "Ct7wFLy6-m5y"
      }
    },
    {
      "cell_type": "markdown",
      "source": [
        "**2.1 Función a trozos #1**:  Se encuentran dos funciones a trozos, transcribir a phyton y hacer una lista de valores aleatorios para que verificar la funcion. Determinar dominio."
      ],
      "metadata": {
        "id": "J1XsiuwVGLhd"
      }
    },
    {
      "cell_type": "code",
      "source": [
        "print(\"Seleccione un número para x\")\n",
        "x = int(input())\n",
        "\n",
        "if x < -3:\n",
        "    print(x + 2)\n",
        "elif -3 <= x < 0:\n",
        "    print(-x)\n",
        "else:\n",
        "    print(2)"
      ],
      "metadata": {
        "id": "BxhFS1rhGPo0"
      },
      "execution_count": null,
      "outputs": []
    },
    {
      "cell_type": "markdown",
      "source": [
        "**2.2 Función a trozos #2**:  Se encuentran dos funciones a trozos, transcribir a phyton y hacer una lista de valores aleatorios para que verificar la funcion. Determinar dominio."
      ],
      "metadata": {
        "id": "FNGexlzdGT3J"
      }
    },
    {
      "cell_type": "code",
      "source": [
        "print(\"Seleccione números para a, b y x\")\n",
        "a = int(input(\"Seleccione para a:\", ))\n",
        "b = int(input(\"Seleccione para b:\", ))\n",
        "x = int(input(\"Seleccione para x:\", ))\n",
        "\n",
        "if x < 0:\n",
        "    print(a - x**2)\n",
        "elif 0 <= x <= 1:\n",
        "    print(2)\n",
        "else:\n",
        "    print(\"Su resultado es:\", x**2 - 2*x + b)\n",
        "\n",
        "print(\"EL DOMINIO DE LA FUNCIÓN A TROZOS SON TODOS LOS REALES\")"
      ],
      "metadata": {
        "id": "6ls3Q56GGb39"
      },
      "execution_count": null,
      "outputs": []
    },
    {
      "cell_type": "markdown",
      "source": [
        "**Punto 3: Condicionales**"
      ],
      "metadata": {
        "id": "heEkbeHSBj5K"
      }
    },
    {
      "cell_type": "markdown",
      "source": [
        "**3.1** Escribir una funcion que reciba una muestra de números en una lista y devuelva otra lista con sus cuadrados, otra con los cubos y otra con las raices."
      ],
      "metadata": {
        "id": "1Dca30t0GiAy"
      }
    },
    {
      "cell_type": "code",
      "source": [
        "print(\"A la siguiente lista de números se les mostrará los cuadrados, cubos y las raices\")\n",
        "lista=[3,2,6,9,7,8,18]\n",
        "print(lista)\n",
        "\n",
        "for x in lista:\n",
        "  print(\"Su cuadrados: \", x**2)\n",
        "  print(\"Su cubos: \", x**3)\n",
        "  print(\"Su raiz: \", x**0.5)"
      ],
      "metadata": {
        "id": "i8edmJXuGrK-",
        "colab": {
          "base_uri": "https://localhost:8080/"
        },
        "outputId": "836432fa-cfbf-4ae1-ae12-03db958a2a68"
      },
      "execution_count": null,
      "outputs": [
        {
          "output_type": "stream",
          "name": "stdout",
          "text": [
            "A la siguiente lista de números se les mostrará los cuadrados, cubos y las raices\n",
            "[3, 2, 6, 9, 7, 8, 18]\n",
            "Su cuadrados:  9\n",
            "Su cubos:  27\n",
            "Su raiz:  1.7320508075688772\n",
            "Su cuadrados:  4\n",
            "Su cubos:  8\n",
            "Su raiz:  1.4142135623730951\n",
            "Su cuadrados:  36\n",
            "Su cubos:  216\n",
            "Su raiz:  2.449489742783178\n",
            "Su cuadrados:  81\n",
            "Su cubos:  729\n",
            "Su raiz:  3.0\n",
            "Su cuadrados:  49\n",
            "Su cubos:  343\n",
            "Su raiz:  2.6457513110645907\n",
            "Su cuadrados:  64\n",
            "Su cubos:  512\n",
            "Su raiz:  2.8284271247461903\n",
            "Su cuadrados:  324\n",
            "Su cubos:  5832\n",
            "Su raiz:  4.242640687119285\n"
          ]
        }
      ]
    },
    {
      "cell_type": "markdown",
      "source": [
        "**3.2** Programa que almacena las asignaturas vistas el semestre pasado en una lista, pregunte al usuario la nota que ha sacado en cada asignatura."
      ],
      "metadata": {
        "id": "p1yAIUFUBrWC"
      }
    },
    {
      "cell_type": "code",
      "source": [
        "materias = [\"Matemáticas Aplicadas I\", \"Física I\", \"Química I\", \"COE\", \"PDG I\"]\n",
        "resultados = {}\n",
        "\n",
        "for materia in materias:\n",
        "    nota = float(input(f\"Ingrese la nota en {materia}: \"))\n",
        "    if nota > 5:\n",
        "      print(\"La nota no puede ser mayor a 5.\")\n",
        "    elif nota >= 4 < 5:\n",
        "        noticia = \"Nivel superior\"\n",
        "    elif 3.5 <= nota < 4:\n",
        "        noticia = \"Asignatura aprobada pero debe asistir a plan de mejoramiento, diríjase a CAMBAS.\"\n",
        "    else:\n",
        "        noticia = \"Asignatura No aprobada. Debe repetirla el próximo semestre.\"\n",
        "\n",
        "    resultados[materia] = {\n",
        "        \"Nota\": nota,\n",
        "        \"Noticia\": noticia\n",
        "    }\n",
        "\n",
        "print(\"\\nResultados del semestre:\")\n",
        "for materia, info in resultados.items():\n",
        "    print(f\"Noticia: {materia}\")\n",
        "    print(f\"  Nota: {info['Nota']}\")\n",
        "    print(f\"  Noticia: {info['Noticia']}\")\n",
        "    print(\"-\" * 40)"
      ],
      "metadata": {
        "colab": {
          "base_uri": "https://localhost:8080/"
        },
        "id": "YZvujUx7Bo1f",
        "outputId": "45e7be3d-52c4-4b88-e0b2-f3c8994a23c2"
      },
      "execution_count": null,
      "outputs": [
        {
          "output_type": "stream",
          "name": "stdout",
          "text": [
            "Ingrese la nota en Matemáticas Aplicadas I: 4.3\n",
            "Ingrese la nota en Física I: 3.7\n",
            "Ingrese la nota en Química I: 3\n",
            "Ingrese la nota en COE: 2.1\n",
            "Ingrese la nota en PDG I: 5\n",
            "\n",
            "Resultados del semestre:\n",
            "Noticia: Matemáticas Aplicadas I\n",
            "  Nota: 4.3\n",
            "  Noticia: Nivel superior\n",
            "----------------------------------------\n",
            "Noticia: Física I\n",
            "  Nota: 3.7\n",
            "  Noticia: Asignatura aprobada pero debe asistir a plan de mejoramiento, diríjase a CAMBAS.\n",
            "----------------------------------------\n",
            "Noticia: Química I\n",
            "  Nota: 3.0\n",
            "  Noticia: Asignatura No aprobada. Debe repetirla el próximo semestre.\n",
            "----------------------------------------\n",
            "Noticia: COE\n",
            "  Nota: 2.1\n",
            "  Noticia: Asignatura No aprobada. Debe repetirla el próximo semestre.\n",
            "----------------------------------------\n",
            "Noticia: PDG I\n",
            "  Nota: 5.0\n",
            "  Noticia: Nivel superior\n",
            "----------------------------------------\n"
          ]
        }
      ]
    },
    {
      "cell_type": "markdown",
      "source": [
        "**3.3**  Lista que almacena el precio del Barril de Petroleo los\n",
        "ultimos 7 dias. Con el precio de un litro de Cocacola de hoy\n",
        "y haga la conversion de Litros a Barriles. Asimismo, otra lista que\n",
        "relacione proporcionalemente el precio de un barril de Petroleo vs un\n",
        "barril de Cocacola."
      ],
      "metadata": {
        "id": "PlTrBupQCO4P"
      }
    },
    {
      "cell_type": "code",
      "source": [
        "petroleo = [79.6, 78.9, 78.5, 76.1, 77.2, 76.6, 76.7]  # Sacados de Insider; en USD (Petroleo BRENT)\n",
        "\n",
        "coca_COP = 4500  # Sacado de entuhogar.COCACOLA\n",
        "divisa_USDCOP = 4068 # Sacado de Insider\n",
        "coca_USD = coca_COP / divisa_USDCOP # $ coca cola en USD\n",
        "\n",
        "ltrbrl = 159 #1 Barril = 159 Litros\n",
        "barril_coca = coca_USD * ltrbrl #valor de un barril de Coca-Cola\n",
        "\n",
        "relacion = [petroleo / barril_coca for petroleo in petroleo] #relacion por dia\n",
        "\n",
        "print(\"Precios del barril de petróleo (en USD) en los últimos 7 días:\", petroleo)\n",
        "print(f\"Precio de un litro de Coca-Cola: {coca_USD} USD\")\n",
        "print(f\"Precio de un barril de Coca-Cola: {barril_coca} USD\")\n",
        "print(\"Relación proporcional de precios (Petróleo vs Coca-Cola):\", relacion)"
      ],
      "metadata": {
        "colab": {
          "base_uri": "https://localhost:8080/"
        },
        "id": "4vmj4M3yCg0y",
        "outputId": "77143dcf-5899-4849-b9fb-a37c06c47ac6"
      },
      "execution_count": null,
      "outputs": [
        {
          "output_type": "stream",
          "name": "stdout",
          "text": [
            "Precios del barril de petróleo (en USD) en los últimos 7 días: [79.6, 78.9, 78.5, 76.1, 77.2, 76.6, 76.7]\n",
            "Precio de un litro de Coca-Cola: 1.1061946902654867 USD\n",
            "Precio de un barril de Coca-Cola: 175.8849557522124 USD\n",
            "Relación proporcional de precios (Petróleo vs Coca-Cola): [0.45256855345911945, 0.44858867924528306, 0.44631446540880504, 0.43266918238993707, 0.4389232704402516, 0.4355119496855345, 0.4360805031446541]\n"
          ]
        }
      ]
    },
    {
      "cell_type": "markdown",
      "source": [
        "**Conclusión**: Se puede observar que los precios de un barril de petróleo son significativamente menores que los de un barril de Coca-Cola. Los precios de una barril de petroleo se encuentran en un valor de entre 76 y 79 USD mientras que el precio de un barril de Coca-Cola es de aproximadamente 175.8 USD. Esto resulta en que, de acuerdo a la relación, un barril de coca-cola es aproximadamente entre 43% a 45% más caro que un barril de petroleo"
      ],
      "metadata": {
        "id": "UCK6xvqIyxBB"
      }
    },
    {
      "cell_type": "markdown",
      "source": [
        "**3.4** Pareja que decide guardar 5 USD cada mes el primer año de su matrimonio, 15 USD cada mes del segundo año, 25 USD cada mes del tercer año y así sucesivamente, aumentando la cantidad mensual en 10 USD cada año.\n",
        "\n",
        "Demostrar la cantidad total que habran ahorrado al final del decimoquinto año. Asimismo, crear lista para el ahorro de los 15 años de Matrimonio"
      ],
      "metadata": {
        "id": "BslRJ-F3CpC-"
      }
    },
    {
      "cell_type": "code",
      "source": [
        "ahorro_ano = [] #La incógnita de $ que hace cada año.\n",
        "ahorro_total = 0 #Lo que se lleva en el año 0 de ahorro\n",
        "\n",
        "anos = range(1,16) #Nro. de años en los que se ahorra.\n",
        "\n",
        "for año in anos:\n",
        "    ahorro_mes = 5 + (año - 1) * 10  #Formula\n",
        "    ahorro_anual_total = ahorro_mes * 12  #Ahorro en un año\n",
        "\n",
        "\n",
        "    ahorro_ano.append(ahorro_anual_total)\n",
        "    ahorro_total += ahorro_anual_total\n",
        "\n",
        "print(\"Ahorros anuales durante 15 años:\", ahorro_ano) #Lista de cuanto $ ahorro por año\n",
        "print(f\"Ahorro total al final de los 15 años: ${ahorro_total}\") #Cuanto $ hizo en los 15 años."
      ],
      "metadata": {
        "colab": {
          "base_uri": "https://localhost:8080/"
        },
        "id": "WAg_-4FmDHVa",
        "outputId": "cf8bd52c-0d44-4dbf-b616-176b514b80c2"
      },
      "execution_count": null,
      "outputs": [
        {
          "output_type": "stream",
          "name": "stdout",
          "text": [
            "Ahorros anuales durante 15 años: [60, 180, 300, 420, 540, 660, 780, 900, 1020, 1140, 1260, 1380, 1500, 1620, 1740]\n",
            "Ahorro total al final de los 15 años: $13500\n"
          ]
        }
      ]
    }
  ]
}