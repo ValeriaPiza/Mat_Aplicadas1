{
  "nbformat": 4,
  "nbformat_minor": 0,
  "metadata": {
    "colab": {
      "provenance": [],
      "authorship_tag": "ABX9TyN0bT0VAwZD3y9qYWDFne2i",
      "include_colab_link": true
    },
    "kernelspec": {
      "name": "python3",
      "display_name": "Python 3"
    },
    "language_info": {
      "name": "python"
    }
  },
  "cells": [
    {
      "cell_type": "markdown",
      "metadata": {
        "id": "view-in-github",
        "colab_type": "text"
      },
      "source": [
        "<a href=\"https://colab.research.google.com/github/ValeriaPiza/Mat_Aplicadas1/blob/main/PizaValeria_A00405037.ipynb\" target=\"_parent\"><img src=\"https://colab.research.google.com/assets/colab-badge.svg\" alt=\"Open In Colab\"/></a>"
      ]
    },
    {
      "cell_type": "markdown",
      "source": [
        "#<font color=\"d978f8\"> ***Autobiografía*** </font>\n",
        "\n",
        "Mi nombre es Valeria Piza Saavedra y nací en Cali el dia 15 de diciembre del año 2006, estudio ingenieria en sistemas y voy en segundo semestre. Me gradué en el año 2023 del colegio Nuestra Señora de la Anunciación, escogí esta carrera porque tuve la oportunidad de hacer una técnica en mi colegio, la cuál me gusto mucho, ademas de saber que mi tio es egresado de la ICESI con el mismo titulo de ingeniero. actualmente tengo unos hobbies que quisiera retomar, los cuales son el voleibol.  me gusta la música en general, menos el vallenato y la musica popular. tengo 2 mascotas, una perra llamada Milú y una gata llamada Cleo, a pesar de ser alergica a el pelaje de ambos animales, les tengo mucho cariño. Me gusta leer, más especificamente literatura griega, literatura inglesa, juvenil, romance y algo de fantasia. En un futuro me gustaria viajar por las mejores ciudades y lugares de todo el mundo a vivir nuevas experiencias.No me concidero una persona muy sociable, al contrario, creo que soy muy selectiva con las personas a las cuales les comparto mi tiempo y cariño, pues me encanta salir a conocer nuevos lugares e ir a comer a restaurantes para pasar mas tiempo con las personas que quiero. Me concidero una persona muy bendecida y agradecida con Dios por la familia tan maravillosa que tengo, pues se cuanto se han esforzado por tener lo mejor en mi vida, tanto en estudio como en calidad de vida en general.\n",
        "\n",
        "<img src=https://www.gob.mx/cms/uploads/article/main_image/19203/A94DB004E5944BB083A269FB684B8EDE.jpg>\n",
        "\n",
        "#<font color=\"d978f8\"> **Canciones favoritas** </font>#\n",
        "\n",
        "----------\n",
        ">**Kyoto**\n",
        ">>*Omar Courtz, De La Rose, Haze*\n",
        ">>>*Omar Courtz, De La Rose, Haze, Xound, Hydro*\n",
        "----------\n",
        ">**BADGYAL**\n",
        ">>*SAIKO, JC Reyes, Dei V*\n",
        ">>>*SAIKO, Kidd Keo, OHYES, Enry-K*\n",
        "----------\n",
        ">**MEMORIAS**\n",
        ">>*Mora, JHAYCO*\n",
        ">>>*Mora, Bory, Cezar The Producer*\n",
        "----------\n",
        ">**COSAS QUE NO TE DIJE**\n",
        ">>*SAIKO*\n",
        ">>>*SAIKO, Marlon Fernán Ávila Escobar, Luís Miguel Gómez Catoira*\n",
        "----------\n",
        ">**Ella y Tu**\n",
        ">>*Juan Manuel Lebrón*\n",
        ">>>*Juan Manuel Lebrón, Carlos Varela*\n",
        "----------\n",
        "\n",
        "#<font color=\"d978f8\"> **Canciones favoritas** </font>#\n",
        "\n",
        "| Asignatura | Razón |\n",
        "|------------|-------|\n",
        "|Logica y Argumentación| Aparte de la elección de un excelente profesor, los temas a trabajar fueron entretenidos e interesantes\n",
        "|Introducción a Ingenieria de Sistemas| Igualmente la elección de profesor fue excelente y el aprendizaje durante todo el semestre fue de gran utilidad\n",
        "|Algebra y funciones| Como profesora me parecio excelente, los temas trabajador me mantenian en un repaso constante para quedarme con lo que iba a necesitar"
      ],
      "metadata": {
        "id": "b8p2GIWUiLij"
      }
    }
  ]
}